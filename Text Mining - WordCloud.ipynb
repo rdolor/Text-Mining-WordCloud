{
 "cells": [
  {
   "cell_type": "code",
   "execution_count": 1,
   "metadata": {
    "collapsed": false
   },
   "outputs": [
    {
     "name": "stdout",
     "output_type": "stream",
     "text": [
      "D:\\GRADUATE\\NTHU\\1st Year\\2nd Sem\\Text Mining\\Project 1 - Tag Cloud\n"
     ]
    }
   ],
   "source": [
    "cd D:\\GRADUATE\\NTHU\\1st Year\\2nd Sem\\Text Mining\\Project 1 - Tag Cloud"
   ]
  },
  {
   "cell_type": "code",
   "execution_count": 2,
   "metadata": {
    "collapsed": true
   },
   "outputs": [],
   "source": [
    "%matplotlib inline"
   ]
  },
  {
   "cell_type": "code",
   "execution_count": 3,
   "metadata": {
    "collapsed": true
   },
   "outputs": [],
   "source": [
    "import pandas as pd"
   ]
  },
  {
   "cell_type": "code",
   "execution_count": 4,
   "metadata": {
    "collapsed": false
   },
   "outputs": [
    {
     "data": {
      "text/html": [
       "<div>\n",
       "<table border=\"1\" class=\"dataframe\">\n",
       "  <thead>\n",
       "    <tr style=\"text-align: right;\">\n",
       "      <th></th>\n",
       "      <th>編號</th>\n",
       "      <th>校院名稱</th>\n",
       "      <th>系所名稱</th>\n",
       "      <th>作者</th>\n",
       "      <th>作者(外文)</th>\n",
       "      <th>論文名稱</th>\n",
       "      <th>論文名稱(外文)</th>\n",
       "      <th>指導教授</th>\n",
       "      <th>指導教授(外文)</th>\n",
       "      <th>口試委員</th>\n",
       "      <th>...</th>\n",
       "      <th>畢業年度</th>\n",
       "      <th>出版年</th>\n",
       "      <th>語文別</th>\n",
       "      <th>中文關鍵詞</th>\n",
       "      <th>外文關鍵詞</th>\n",
       "      <th>摘要</th>\n",
       "      <th>摘要(外文)</th>\n",
       "      <th>論文目次</th>\n",
       "      <th>參考文獻</th>\n",
       "      <th>論文頁數</th>\n",
       "    </tr>\n",
       "  </thead>\n",
       "  <tbody>\n",
       "    <tr>\n",
       "      <th>0</th>\n",
       "      <td>1</td>\n",
       "      <td>國立清華大學</td>\n",
       "      <td>電機工程學系</td>\n",
       "      <td>譚匡哲</td>\n",
       "      <td>Tam, Kuang-Jer</td>\n",
       "      <td>利用每分鐘心電圖訊號特徵為支持向量機之睡眠呼吸中止症辨識方法</td>\n",
       "      <td>An Obstructive Sleep Apnea Recognition Algorit...</td>\n",
       "      <td>馬席彬</td>\n",
       "      <td>Ma, Hsi-Pin</td>\n",
       "      <td>黃元豪\\n劉奕汶</td>\n",
       "      <td>...</td>\n",
       "      <td>103.0</td>\n",
       "      <td>103</td>\n",
       "      <td>英文</td>\n",
       "      <td>睡眠呼吸中止\\n支持向量機\\n心電圖</td>\n",
       "      <td>NaN</td>\n",
       "      <td>近年來，隨著睡眠時間以及睡眠品質逐漸受到重視，睡眠呼吸中止症逐漸成為了重要的議題，其後遺症會...</td>\n",
       "      <td>Nowadays, sleep disorders become an important ...</td>\n",
       "      <td>Abstract i\\n1 Introduction 1\\n1.1 Backgrounds ...</td>\n",
       "      <td>[1] L. R. Melinda Smith, M. A. and M. L. Rober...</td>\n",
       "      <td>71</td>\n",
       "    </tr>\n",
       "  </tbody>\n",
       "</table>\n",
       "<p>1 rows × 24 columns</p>\n",
       "</div>"
      ],
      "text/plain": [
       "   編號    校院名稱    系所名稱   作者          作者(外文)                            論文名稱  \\\n",
       "0   1  國立清華大學  電機工程學系  譚匡哲  Tam, Kuang-Jer  利用每分鐘心電圖訊號特徵為支持向量機之睡眠呼吸中止症辨識方法   \n",
       "\n",
       "                                            論文名稱(外文) 指導教授     指導教授(外文)  \\\n",
       "0  An Obstructive Sleep Apnea Recognition Algorit...  馬席彬  Ma, Hsi-Pin   \n",
       "\n",
       "       口試委員 ...    畢業年度  出版年 語文別               中文關鍵詞  外文關鍵詞  \\\n",
       "0  黃元豪\\n劉奕汶 ...   103.0  103  英文  睡眠呼吸中止\\n支持向量機\\n心電圖    NaN   \n",
       "\n",
       "                                                  摘要  \\\n",
       "0  近年來，隨著睡眠時間以及睡眠品質逐漸受到重視，睡眠呼吸中止症逐漸成為了重要的議題，其後遺症會...   \n",
       "\n",
       "                                              摘要(外文)  \\\n",
       "0  Nowadays, sleep disorders become an important ...   \n",
       "\n",
       "                                                論文目次  \\\n",
       "0  Abstract i\\n1 Introduction 1\\n1.1 Backgrounds ...   \n",
       "\n",
       "                                                參考文獻 論文頁數  \n",
       "0  [1] L. R. Melinda Smith, M. A. and M. L. Rober...   71  \n",
       "\n",
       "[1 rows x 24 columns]"
      ]
     },
     "execution_count": 4,
     "metadata": {},
     "output_type": "execute_result"
    }
   ],
   "source": [
    "file = pd.read_excel(\"20170330.xls\")\n",
    "file.head(1)"
   ]
  },
  {
   "cell_type": "code",
   "execution_count": 5,
   "metadata": {
    "collapsed": false
   },
   "outputs": [
    {
     "data": {
      "text/plain": [
       "Index(['編號', '校院名稱', '系所名稱', '作者', '作者(外文)', '論文名稱', '論文名稱(外文)', '指導教授',\n",
       "       '指導教授(外文)', '口試委員', '口試委員(外文)', '口試日期', '學位類別', '畢業學年度', '畢業年度', '出版年',\n",
       "       '語文別', '中文關鍵詞', '外文關鍵詞', '摘要', '摘要(外文)', '論文目次', '參考文獻', '論文頁數'],\n",
       "      dtype='object')"
      ]
     },
     "execution_count": 5,
     "metadata": {},
     "output_type": "execute_result"
    }
   ],
   "source": [
    "file.columns"
   ]
  },
  {
   "cell_type": "code",
   "execution_count": 6,
   "metadata": {
    "collapsed": false
   },
   "outputs": [
    {
     "data": {
      "text/plain": [
       "24"
      ]
     },
     "execution_count": 6,
     "metadata": {},
     "output_type": "execute_result"
    }
   ],
   "source": [
    "len(file.columns)"
   ]
  },
  {
   "cell_type": "code",
   "execution_count": 7,
   "metadata": {
    "collapsed": false
   },
   "outputs": [
    {
     "data": {
      "text/plain": [
       "(5444, 24)"
      ]
     },
     "execution_count": 7,
     "metadata": {},
     "output_type": "execute_result"
    }
   ],
   "source": [
    "file.shape"
   ]
  },
  {
   "cell_type": "raw",
   "metadata": {
    "collapsed": true
   },
   "source": [
    "# Google translated XD\n",
    "    編號              Numbering\n",
    "    校院名稱          Name of the school\n",
    "    系所名稱          The name of the department\n",
    "    作者              Author\n",
    "    作者(外文)        Author (foreign language)\n",
    "    論文名稱          The name of the paper\n",
    "    論文名稱(外文)    The name of the paper (foreign language)\n",
    "    指導教授          Advisor\n",
    "    指導教授(外文)    Instructor (foreign language)\n",
    "    口試委員          Oral commissioner\n",
    "    口試委員(外文)    Oral commissioner (foreign language)\n",
    "    口試日期          Oral date\n",
    "    學位類別          Degree category\n",
    "    畢業學年度        Graduation school year\n",
    "    畢業年度          Graduation year\n",
    "    出版年            Publication year\n",
    "    語文別            Language\n",
    "    中文關鍵詞        Chinese Keywords\n",
    "    外文關鍵詞        Foreign words\n",
    "    摘要             Summary\n",
    "    摘要(外文)       Abstract (foreign language)\n",
    "    論文目次         Papers directory\n",
    "    參考文獻         references\n",
    "    論文頁數         Number of papers"
   ]
  },
  {
   "cell_type": "code",
   "execution_count": 8,
   "metadata": {
    "collapsed": true
   },
   "outputs": [],
   "source": [
    "file.columns = ['Numbering', 'SchoolName','DepartmentName','Author','AuthorForeign','PaperName','PaperNameForeign',\n",
    "               'Advisor','AdvisorForeign','OralComissioner','OralComissionerForeign','OralDate','DegreeCategory',\n",
    "                'GraduationSchoolYear','GraduationYear','PublicationYear','Language','ChineseKeywords','ForeignKeywords',\n",
    "                'Abstract','AbstractForeign','PapersDirectory','References','NumberPapers']"
   ]
  },
  {
   "cell_type": "code",
   "execution_count": 9,
   "metadata": {
    "collapsed": true
   },
   "outputs": [],
   "source": [
    "import nltk\n",
    "from nltk.corpus import stopwords\n",
    "from collections import Counter\n",
    "import re\n",
    "\n",
    "from nltk.stem.wordnet import WordNetLemmatizer \n",
    "lem = WordNetLemmatizer()\n",
    "\n",
    "#Get the stopwords\n",
    "stops = set(stopwords.words(\"english\"))"
   ]
  },
  {
   "cell_type": "markdown",
   "metadata": {},
   "source": [
    "# How to clean data"
   ]
  },
  {
   "cell_type": "markdown",
   "metadata": {},
   "source": [
    "### Create functions to clean each abstract"
   ]
  },
  {
   "cell_type": "code",
   "execution_count": 10,
   "metadata": {
    "collapsed": false
   },
   "outputs": [
    {
     "data": {
      "text/html": [
       "<div>\n",
       "<table border=\"1\" class=\"dataframe\">\n",
       "  <thead>\n",
       "    <tr style=\"text-align: right;\">\n",
       "      <th></th>\n",
       "      <th>AbstractForeign</th>\n",
       "    </tr>\n",
       "  </thead>\n",
       "  <tbody>\n",
       "    <tr>\n",
       "      <th>0</th>\n",
       "      <td>Nowadays, sleep disorders become an important ...</td>\n",
       "    </tr>\n",
       "  </tbody>\n",
       "</table>\n",
       "</div>"
      ],
      "text/plain": [
       "                                     AbstractForeign\n",
       "0  Nowadays, sleep disorders become an important ..."
      ]
     },
     "execution_count": 10,
     "metadata": {},
     "output_type": "execute_result"
    }
   ],
   "source": [
    "abstract = file[['AbstractForeign']]\n",
    "abstract.head(1)"
   ]
  },
  {
   "cell_type": "code",
   "execution_count": 11,
   "metadata": {
    "collapsed": true
   },
   "outputs": [],
   "source": [
    "# Define a function to do the cleaning and preprocessing\n",
    "\n",
    "def preprocessor( data ):\n",
    "    # 1. Remove non-letters        \n",
    "    letters_only = re.sub(\"[^a-zA-Z]\", \" \", data) \n",
    "    \n",
    "\n",
    "    # 2. Convert to lower case,\n",
    "    lower = letters_only.lower()              \n",
    "    \n",
    "    # 3. remove unwanted characters, split into individual words\n",
    "    regexText = (re.sub(r'(?<!\\d)\\.(?!\\d)', '',' '.join(re.findall(r'[\\w.]+',\n",
    "             re.sub(\"'s|'re|'d|'ve|'t|\\d+\", \" \", lower))))).split() \n",
    "    \n",
    "    # 4. Remove 1 characters\n",
    "    words = [word for word in regexText if len(word) > 1]\n",
    "                     \n",
    "    # 4. Remove stop words\n",
    "    meaningful_words = [w for w in words if not w in stops]   \n",
    "    #\n",
    "    # 6. Join the words back into one string separated by space, \n",
    "    # and return the result.\n",
    "    return( \" \".join( meaningful_words ))"
   ]
  },
  {
   "cell_type": "code",
   "execution_count": 12,
   "metadata": {
    "collapsed": false
   },
   "outputs": [
    {
     "data": {
      "text/plain": [
       "'Nowadays, sleep disorders become an important issue because it can adversely affect neurocognitive, cardiovascular, respiratory diseases, which subsequently induce the behavior\\ndisorder, majority of these cases up to 85% of these cases are obstructive sleep apnea (OSA). Therefore, the study of how to diagnose, detect and treat OSA is becoming a critical\\nissue from both academical and medical perspective. Polysomnography (PSG) can monitor the OSA using relatively few invasive techniques. However, sleep studies are expensive and time-consuming because they require overnight evaluation at sleep laboratories with dedicated systems and attending personnel. To improve such inconveniences of exam and high cost, it is important to develop a simplified method to diagnose the OSA.\\n\\nThe motivation of this study is to develop an OSA detection algorithm, which uses only electrocardiogram (ECG) signal. The procedures of this algorithm include three parts. At\\nfirst, ECG signals are preprocessed by discrete wavelet transform (DWT) method in order to detect the R peck by removing the base line wander and power line noise. Based on the R peak position, the 126 features were generated from the ECG-derived respiration (EDR) signal using time domain and frequency analysis. The range scaling method can be applied afterward to normalize all features in order to minimize the effect of large range variation from the value of each feature. At last, a classification method called support vector machine (SVM) is used to classify if the subject shows OSA symptom or not in each minute. The 10-\\nfold cross-validation method is applied to select the best SVM parameter for classification. By combining all the classification results, one can determine if the subject is normal or apnea.\\n\\nThe accuracy of 88.29%, the sensitivity of 92.90% and the specificity value of 86.48%can be seen from the Apnea-ECG database using the minute by minute performance based algorithm. Beside, the accuracy of 100%, the sensitivity of 100% and the specificity value of 100% also can be seen from the database using the subject based performance. The goal of this study to reduce both the detection time and cost is accomplished.'"
      ]
     },
     "execution_count": 12,
     "metadata": {},
     "output_type": "execute_result"
    }
   ],
   "source": [
    "sample = abstract.AbstractForeign[0]\n",
    "sample"
   ]
  },
  {
   "cell_type": "code",
   "execution_count": 15,
   "metadata": {
    "collapsed": false
   },
   "outputs": [
    {
     "data": {
      "text/plain": [
       "'nowadays sleep disorders become important issue adversely affect neurocognitive cardiovascular respiratory diseases subsequently induce behavior disorder majority cases cases obstructive sleep apnea osa therefore study diagnose detect treat osa becoming critical issue academical medical perspective polysomnography psg monitor osa using relatively invasive techniques however sleep studies expensive time consuming require overnight evaluation sleep laboratories dedicated systems attending personnel improve inconveniences exam high cost important develop simplified method diagnose osa motivation study develop osa detection algorithm uses electrocardiogram ecg signal procedures algorithm include three parts first ecg signals preprocessed discrete wavelet transform dwt method order detect peck removing base line wander power line noise based peak position features generated ecg derived respiration edr signal using time domain frequency analysis range scaling method applied afterward normalize features order minimize effect large range variation value feature last classification method called support vector machine svm used classify subject shows osa symptom minute fold cross validation method applied select best svm parameter classification combining classification results one determine subject normal apnea accuracy sensitivity specificity value seen apnea ecg database using minute minute performance based algorithm beside accuracy sensitivity specificity value also seen database using subject based performance goal study reduce detection time cost accomplished'"
      ]
     },
     "execution_count": 15,
     "metadata": {},
     "output_type": "execute_result"
    }
   ],
   "source": [
    "sample = preprocessor(sample)\n",
    "sample"
   ]
  },
  {
   "cell_type": "markdown",
   "metadata": {},
   "source": [
    "### Lemmatization: \n",
    "\n",
    "Lemmatization, on the other hand, is an organized & step by step procedure of obtaining the root form of the word, it makes use of vocabulary (dictionary importance of words) and morphological analysis (word structure and grammar relations)."
   ]
  },
  {
   "cell_type": "code",
   "execution_count": 17,
   "metadata": {
    "collapsed": true
   },
   "outputs": [],
   "source": [
    "def tokenizer_lemma_nostop(text):\n",
    "    lem = WordNetLemmatizer()\n",
    "    return [lem.lemmatize(w,\"v\") for w in re.split('\\s+', text.strip()) \\\n",
    "            if w not in stops and re.match('[a-zA-Z]+', w) and w != 'nan']"
   ]
  },
  {
   "cell_type": "raw",
   "metadata": {},
   "source": [
    "#Example:\n",
    "\n",
    "word = \"consuming\" \n",
    "lem.lemmatize(word, \"v\")\n",
    ">> \"consume\" "
   ]
  },
  {
   "cell_type": "code",
   "execution_count": 19,
   "metadata": {
    "collapsed": false
   },
   "outputs": [
    {
     "data": {
      "text/plain": [
       "['nowadays',\n",
       " 'sleep',\n",
       " 'disorder',\n",
       " 'become',\n",
       " 'important',\n",
       " 'issue',\n",
       " 'adversely',\n",
       " 'affect',\n",
       " 'neurocognitive',\n",
       " 'cardiovascular',\n",
       " 'respiratory',\n",
       " 'diseases',\n",
       " 'subsequently',\n",
       " 'induce',\n",
       " 'behavior',\n",
       " 'disorder',\n",
       " 'majority',\n",
       " 'case',\n",
       " 'case',\n",
       " 'obstructive',\n",
       " 'sleep',\n",
       " 'apnea',\n",
       " 'osa',\n",
       " 'therefore',\n",
       " 'study',\n",
       " 'diagnose',\n",
       " 'detect',\n",
       " 'treat',\n",
       " 'osa',\n",
       " 'become',\n",
       " 'critical',\n",
       " 'issue',\n",
       " 'academical',\n",
       " 'medical',\n",
       " 'perspective',\n",
       " 'polysomnography',\n",
       " 'psg',\n",
       " 'monitor',\n",
       " 'osa',\n",
       " 'use',\n",
       " 'relatively',\n",
       " 'invasive',\n",
       " 'techniques',\n",
       " 'however',\n",
       " 'sleep',\n",
       " 'study',\n",
       " 'expensive',\n",
       " 'time',\n",
       " 'consume',\n",
       " 'require',\n",
       " 'overnight',\n",
       " 'evaluation',\n",
       " 'sleep',\n",
       " 'laboratories',\n",
       " 'dedicate',\n",
       " 'systems',\n",
       " 'attend',\n",
       " 'personnel',\n",
       " 'improve',\n",
       " 'inconvenience',\n",
       " 'exam',\n",
       " 'high',\n",
       " 'cost',\n",
       " 'important',\n",
       " 'develop',\n",
       " 'simplify',\n",
       " 'method',\n",
       " 'diagnose',\n",
       " 'osa',\n",
       " 'motivation',\n",
       " 'study',\n",
       " 'develop',\n",
       " 'osa',\n",
       " 'detection',\n",
       " 'algorithm',\n",
       " 'use',\n",
       " 'electrocardiogram',\n",
       " 'ecg',\n",
       " 'signal',\n",
       " 'procedures',\n",
       " 'algorithm',\n",
       " 'include',\n",
       " 'three',\n",
       " 'part',\n",
       " 'first',\n",
       " 'ecg',\n",
       " 'signal',\n",
       " 'preprocessed',\n",
       " 'discrete',\n",
       " 'wavelet',\n",
       " 'transform',\n",
       " 'dwt',\n",
       " 'method',\n",
       " 'order',\n",
       " 'detect',\n",
       " 'peck',\n",
       " 'remove',\n",
       " 'base',\n",
       " 'line',\n",
       " 'wander',\n",
       " 'power',\n",
       " 'line',\n",
       " 'noise',\n",
       " 'base',\n",
       " 'peak',\n",
       " 'position',\n",
       " 'feature',\n",
       " 'generate',\n",
       " 'ecg',\n",
       " 'derive',\n",
       " 'respiration',\n",
       " 'edr',\n",
       " 'signal',\n",
       " 'use',\n",
       " 'time',\n",
       " 'domain',\n",
       " 'frequency',\n",
       " 'analysis',\n",
       " 'range',\n",
       " 'scale',\n",
       " 'method',\n",
       " 'apply',\n",
       " 'afterward',\n",
       " 'normalize',\n",
       " 'feature',\n",
       " 'order',\n",
       " 'minimize',\n",
       " 'effect',\n",
       " 'large',\n",
       " 'range',\n",
       " 'variation',\n",
       " 'value',\n",
       " 'feature',\n",
       " 'last',\n",
       " 'classification',\n",
       " 'method',\n",
       " 'call',\n",
       " 'support',\n",
       " 'vector',\n",
       " 'machine',\n",
       " 'svm',\n",
       " 'use',\n",
       " 'classify',\n",
       " 'subject',\n",
       " 'show',\n",
       " 'osa',\n",
       " 'symptom',\n",
       " 'minute',\n",
       " 'fold',\n",
       " 'cross',\n",
       " 'validation',\n",
       " 'method',\n",
       " 'apply',\n",
       " 'select',\n",
       " 'best',\n",
       " 'svm',\n",
       " 'parameter',\n",
       " 'classification',\n",
       " 'combine',\n",
       " 'classification',\n",
       " 'result',\n",
       " 'one',\n",
       " 'determine',\n",
       " 'subject',\n",
       " 'normal',\n",
       " 'apnea',\n",
       " 'accuracy',\n",
       " 'sensitivity',\n",
       " 'specificity',\n",
       " 'value',\n",
       " 'see',\n",
       " 'apnea',\n",
       " 'ecg',\n",
       " 'database',\n",
       " 'use',\n",
       " 'minute',\n",
       " 'minute',\n",
       " 'performance',\n",
       " 'base',\n",
       " 'algorithm',\n",
       " 'beside',\n",
       " 'accuracy',\n",
       " 'sensitivity',\n",
       " 'specificity',\n",
       " 'value',\n",
       " 'also',\n",
       " 'see',\n",
       " 'database',\n",
       " 'use',\n",
       " 'subject',\n",
       " 'base',\n",
       " 'performance',\n",
       " 'goal',\n",
       " 'study',\n",
       " 'reduce',\n",
       " 'detection',\n",
       " 'time',\n",
       " 'cost',\n",
       " 'accomplish']"
      ]
     },
     "execution_count": 19,
     "metadata": {},
     "output_type": "execute_result"
    }
   ],
   "source": [
    "tokenizer_lemma_nostop(sample)"
   ]
  },
  {
   "cell_type": "markdown",
   "metadata": {},
   "source": [
    "# Goal: Get the frequent words by Department and by Publication year"
   ]
  },
  {
   "cell_type": "code",
   "execution_count": 16,
   "metadata": {
    "collapsed": false
   },
   "outputs": [
    {
     "data": {
      "text/html": [
       "<div>\n",
       "<table border=\"1\" class=\"dataframe\">\n",
       "  <thead>\n",
       "    <tr style=\"text-align: right;\">\n",
       "      <th></th>\n",
       "      <th>Numbering</th>\n",
       "      <th>SchoolName</th>\n",
       "      <th>DepartmentName</th>\n",
       "      <th>Author</th>\n",
       "      <th>AuthorForeign</th>\n",
       "      <th>PaperName</th>\n",
       "      <th>PaperNameForeign</th>\n",
       "      <th>Advisor</th>\n",
       "      <th>AdvisorForeign</th>\n",
       "      <th>OralComissioner</th>\n",
       "      <th>...</th>\n",
       "      <th>GraduationYear</th>\n",
       "      <th>PublicationYear</th>\n",
       "      <th>Language</th>\n",
       "      <th>ChineseKeywords</th>\n",
       "      <th>ForeignKeywords</th>\n",
       "      <th>Abstract</th>\n",
       "      <th>AbstractForeign</th>\n",
       "      <th>PapersDirectory</th>\n",
       "      <th>References</th>\n",
       "      <th>NumberPapers</th>\n",
       "    </tr>\n",
       "  </thead>\n",
       "  <tbody>\n",
       "    <tr>\n",
       "      <th>339</th>\n",
       "      <td>340</td>\n",
       "      <td>國立清華大學</td>\n",
       "      <td>化學工程學系</td>\n",
       "      <td>韓易臻</td>\n",
       "      <td>Han, Yi-Jen</td>\n",
       "      <td>改質聚苯并咪唑高分子薄膜及其應用於滲透蒸發分離程序之研究</td>\n",
       "      <td>Surface-modified polybenzimidazole membranes f...</td>\n",
       "      <td>劉英麟</td>\n",
       "      <td>NaN</td>\n",
       "      <td>劉英麟\\n鄭如忠\\n呂幸江</td>\n",
       "      <td>...</td>\n",
       "      <td>102.0</td>\n",
       "      <td>102</td>\n",
       "      <td>中文</td>\n",
       "      <td>滲透蒸發\\n聚苯并咪唑高分子薄膜\\n表面改質</td>\n",
       "      <td>NaN</td>\n",
       "      <td>本研究針對聚苯并咪唑(PBI)高分子薄膜進行改質，以應用於滲透蒸發分離程序。第一部分係利用化...</td>\n",
       "      <td>NaN</td>\n",
       "      <td>中文摘要    I\\nAbstract    II\\n致謝    IV\\n目錄    V\\n...</td>\n",
       "      <td>1.    S. Y. Nam, H. J. Chun, Y. M. Lee, “Perva...</td>\n",
       "      <td>87</td>\n",
       "    </tr>\n",
       "    <tr>\n",
       "      <th>5354</th>\n",
       "      <td>5355</td>\n",
       "      <td>國立清華大學</td>\n",
       "      <td>動力機械工程學系</td>\n",
       "      <td>羅偉誠</td>\n",
       "      <td>NaN</td>\n",
       "      <td>臭氧之最小引燃能量研究</td>\n",
       "      <td>NaN</td>\n",
       "      <td>許文震</td>\n",
       "      <td>NaN</td>\n",
       "      <td>NaN</td>\n",
       "      <td>...</td>\n",
       "      <td>NaN</td>\n",
       "      <td>86</td>\n",
       "      <td>中文</td>\n",
       "      <td>NaN</td>\n",
       "      <td>NaN</td>\n",
       "      <td>NaN</td>\n",
       "      <td>NaN</td>\n",
       "      <td>NaN</td>\n",
       "      <td>NaN</td>\n",
       "      <td>NaN</td>\n",
       "    </tr>\n",
       "  </tbody>\n",
       "</table>\n",
       "<p>2 rows × 24 columns</p>\n",
       "</div>"
      ],
      "text/plain": [
       "      Numbering SchoolName DepartmentName Author AuthorForeign  \\\n",
       "339         340     國立清華大學         化學工程學系    韓易臻   Han, Yi-Jen   \n",
       "5354       5355     國立清華大學       動力機械工程學系    羅偉誠           NaN   \n",
       "\n",
       "                         PaperName  \\\n",
       "339   改質聚苯并咪唑高分子薄膜及其應用於滲透蒸發分離程序之研究   \n",
       "5354                   臭氧之最小引燃能量研究   \n",
       "\n",
       "                                       PaperNameForeign Advisor  \\\n",
       "339   Surface-modified polybenzimidazole membranes f...     劉英麟   \n",
       "5354                                                NaN     許文震   \n",
       "\n",
       "     AdvisorForeign OralComissioner     ...      GraduationYear  \\\n",
       "339             NaN   劉英麟\\n鄭如忠\\n呂幸江     ...               102.0   \n",
       "5354            NaN             NaN     ...                 NaN   \n",
       "\n",
       "     PublicationYear Language         ChineseKeywords  ForeignKeywords  \\\n",
       "339              102       中文  滲透蒸發\\n聚苯并咪唑高分子薄膜\\n表面改質              NaN   \n",
       "5354              86       中文                     NaN              NaN   \n",
       "\n",
       "                                               Abstract AbstractForeign  \\\n",
       "339   本研究針對聚苯并咪唑(PBI)高分子薄膜進行改質，以應用於滲透蒸發分離程序。第一部分係利用化...             NaN   \n",
       "5354                                                NaN             NaN   \n",
       "\n",
       "                                        PapersDirectory  \\\n",
       "339   中文摘要    I\\nAbstract    II\\n致謝    IV\\n目錄    V\\n...   \n",
       "5354                                                NaN   \n",
       "\n",
       "                                             References NumberPapers  \n",
       "339   1.    S. Y. Nam, H. J. Chun, Y. M. Lee, “Perva...           87  \n",
       "5354                                                NaN          NaN  \n",
       "\n",
       "[2 rows x 24 columns]"
      ]
     },
     "execution_count": 16,
     "metadata": {},
     "output_type": "execute_result"
    }
   ],
   "source": [
    "#Publication years 86 and 102 can be disregarded\n",
    "file[(file.PublicationYear == 86) | (file.PublicationYear == 102)]"
   ]
  },
  {
   "cell_type": "markdown",
   "metadata": {},
   "source": [
    "### \"abstract\" dataframe is the data that wil be used in the next steps"
   ]
  },
  {
   "cell_type": "code",
   "execution_count": 20,
   "metadata": {
    "collapsed": false
   },
   "outputs": [
    {
     "data": {
      "text/html": [
       "<div>\n",
       "<table border=\"1\" class=\"dataframe\">\n",
       "  <thead>\n",
       "    <tr style=\"text-align: right;\">\n",
       "      <th></th>\n",
       "      <th>DegreeCategory</th>\n",
       "      <th>DepartmentName</th>\n",
       "      <th>PublicationYear</th>\n",
       "      <th>AbstractForeign</th>\n",
       "    </tr>\n",
       "  </thead>\n",
       "  <tbody>\n",
       "    <tr>\n",
       "      <th>0</th>\n",
       "      <td>碩士</td>\n",
       "      <td>電機工程學系</td>\n",
       "      <td>103</td>\n",
       "      <td>Nowadays, sleep disorders become an important ...</td>\n",
       "    </tr>\n",
       "  </tbody>\n",
       "</table>\n",
       "</div>"
      ],
      "text/plain": [
       "  DegreeCategory DepartmentName  PublicationYear  \\\n",
       "0             碩士         電機工程學系              103   \n",
       "\n",
       "                                     AbstractForeign  \n",
       "0  Nowadays, sleep disorders become an important ...  "
      ]
     },
     "execution_count": 20,
     "metadata": {},
     "output_type": "execute_result"
    }
   ],
   "source": [
    "abstract = file[['DegreeCategory','DepartmentName','PublicationYear','AbstractForeign']]\n",
    "abstract = abstract[abstract.PublicationYear != 86]\n",
    "abstract = abstract[abstract.PublicationYear != 102]\n",
    "abstract.head(1)"
   ]
  },
  {
   "cell_type": "code",
   "execution_count": 21,
   "metadata": {
    "collapsed": false,
    "scrolled": true
   },
   "outputs": [
    {
     "data": {
      "text/plain": [
       "['先進光源科技學位學程',\n",
       " '資訊系統與應用研究所',\n",
       " '生醫工程與環境科學系',\n",
       " '台灣文學研究所',\n",
       " '材料科學工程學系',\n",
       " '通訊工程研究所',\n",
       " '分子與細胞生物研究所',\n",
       " '學習科學研究所',\n",
       " '科技法律研究所',\n",
       " '臺灣研究教師在職進修碩士學位班',\n",
       " '人類學研究所',\n",
       " '經營管理碩士在職專班',\n",
       " '生物科技研究所',\n",
       " '光電工程研究所',\n",
       " '動力機械工程學系',\n",
       " '工業工程與工程管理學系碩士在職專班',\n",
       " '生物醫學工程研究所',\n",
       " '資訊工程學系',\n",
       " '計量財務金融學系',\n",
       " '天文研究所',\n",
       " '高階經營管理碩士在職專班',\n",
       " '奈米工程與微系統研究所',\n",
       " '化學系',\n",
       " '分子醫學研究所',\n",
       " '生物資訊與結構生物研究所',\n",
       " '系統神經科學研究所',\n",
       " '數學系',\n",
       " '工程與系統科學系',\n",
       " '科技管理研究所',\n",
       " '社會學研究所',\n",
       " '歷史研究所',\n",
       " '中國文學系',\n",
       " '電機工程學系',\n",
       " '語言學研究所',\n",
       " '哲學研究所',\n",
       " '核子工程與科學研究所',\n",
       " '半導體元件及製程產業研發碩士專班',\n",
       " '亞際文化研究國際碩士學位學程',\n",
       " '物理系',\n",
       " '服務科學研究所',\n",
       " '國際專業管理碩士班',\n",
       " '統計學研究所',\n",
       " '電子工程研究所',\n",
       " '經濟學系',\n",
       " '化學工程學系',\n",
       " '工業工程與工程管理學系',\n",
       " '外國語文學系']"
      ]
     },
     "execution_count": 21,
     "metadata": {},
     "output_type": "execute_result"
    }
   ],
   "source": [
    "DepartmentName = list(set(abstract.DepartmentName))\n",
    "DepartmentName"
   ]
  },
  {
   "cell_type": "code",
   "execution_count": 22,
   "metadata": {
    "collapsed": false
   },
   "outputs": [
    {
     "data": {
      "text/plain": [
       "[103, 104, 105]"
      ]
     },
     "execution_count": 22,
     "metadata": {},
     "output_type": "execute_result"
    }
   ],
   "source": [
    "PublicationYear = [103,104,105]\n",
    "PublicationYear"
   ]
  },
  {
   "cell_type": "markdown",
   "metadata": {},
   "source": [
    "### Example: DepartmentName = '經營管理碩士在職專班' & PublicationYear =  103"
   ]
  },
  {
   "cell_type": "code",
   "execution_count": 23,
   "metadata": {
    "collapsed": true
   },
   "outputs": [],
   "source": [
    "import numpy as np\n",
    "import scipy as sp\n",
    "from sklearn.feature_extraction.text import CountVectorizer"
   ]
  },
  {
   "cell_type": "code",
   "execution_count": 24,
   "metadata": {
    "collapsed": true
   },
   "outputs": [],
   "source": [
    "count = CountVectorizer(ngram_range=(1, 1),\n",
    "                        preprocessor=preprocessor,\n",
    "                        tokenizer=tokenizer_lemma_nostop)"
   ]
  },
  {
   "cell_type": "code",
   "execution_count": 25,
   "metadata": {
    "collapsed": false
   },
   "outputs": [
    {
     "name": "stderr",
     "output_type": "stream",
     "text": [
      "C:\\Users\\rdolor\\Anaconda3\\lib\\site-packages\\ipykernel\\__main__.py:1: UserWarning: Boolean Series key will be reindexed to match DataFrame index.\n",
      "  if __name__ == '__main__':\n"
     ]
    },
    {
     "data": {
      "text/html": [
       "<div>\n",
       "<table border=\"1\" class=\"dataframe\">\n",
       "  <thead>\n",
       "    <tr style=\"text-align: right;\">\n",
       "      <th></th>\n",
       "      <th>DegreeCategory</th>\n",
       "      <th>DepartmentName</th>\n",
       "      <th>PublicationYear</th>\n",
       "      <th>AbstractForeign</th>\n",
       "      <th>abstract</th>\n",
       "    </tr>\n",
       "  </thead>\n",
       "  <tbody>\n",
       "    <tr>\n",
       "      <th>156</th>\n",
       "      <td>碩士</td>\n",
       "      <td>經營管理碩士在職專班</td>\n",
       "      <td>103</td>\n",
       "      <td>As response to the 6-year-national-constructio...</td>\n",
       "      <td>As response to the 6-year-national-constructio...</td>\n",
       "    </tr>\n",
       "    <tr>\n",
       "      <th>252</th>\n",
       "      <td>碩士</td>\n",
       "      <td>經營管理碩士在職專班</td>\n",
       "      <td>103</td>\n",
       "      <td>The present study applies the theory of Integr...</td>\n",
       "      <td>The present study applies the theory of Integr...</td>\n",
       "    </tr>\n",
       "  </tbody>\n",
       "</table>\n",
       "</div>"
      ],
      "text/plain": [
       "    DegreeCategory DepartmentName  PublicationYear  \\\n",
       "156             碩士     經營管理碩士在職專班              103   \n",
       "252             碩士     經營管理碩士在職專班              103   \n",
       "\n",
       "                                       AbstractForeign  \\\n",
       "156  As response to the 6-year-national-constructio...   \n",
       "252  The present study applies the theory of Integr...   \n",
       "\n",
       "                                              abstract  \n",
       "156  As response to the 6-year-national-constructio...  \n",
       "252  The present study applies the theory of Integr...  "
      ]
     },
     "execution_count": 25,
     "metadata": {},
     "output_type": "execute_result"
    }
   ],
   "source": [
    "file1 = abstract[abstract.DepartmentName == '經營管理碩士在職專班'][abstract.PublicationYear ==  103]\n",
    "file1['abstract'] = file1.AbstractForeign.map(lambda x : str(x))\n",
    "file1.head(2)"
   ]
  },
  {
   "cell_type": "code",
   "execution_count": 26,
   "metadata": {
    "collapsed": false,
    "scrolled": true
   },
   "outputs": [],
   "source": [
    "data = file1.abstract\n",
    "\n",
    "doc_bag = count.fit_transform(data).toarray()"
   ]
  },
  {
   "cell_type": "code",
   "execution_count": 27,
   "metadata": {
    "collapsed": false
   },
   "outputs": [
    {
     "data": {
      "text/plain": [
       "(1377,)"
      ]
     },
     "execution_count": 27,
     "metadata": {},
     "output_type": "execute_result"
    }
   ],
   "source": [
    "bag_cnts = np.sum(doc_bag, axis=0)\n",
    "bag_cnts.shape"
   ]
  },
  {
   "cell_type": "code",
   "execution_count": 28,
   "metadata": {
    "collapsed": false
   },
   "outputs": [
    {
     "name": "stdout",
     "output_type": "stream",
     "text": [
      "[most frequent vocabularies]\n",
      "study 47\n",
      "taiwan 41\n",
      "industry 39\n",
      "market 38\n",
      "company 35\n",
      "business 32\n",
      "research 31\n",
      "use 29\n",
      "value 28\n",
      "model 27\n",
      "strategy 26\n",
      "service 25\n",
      "organization 24\n",
      "data 24\n",
      "open 24\n",
      "management 21\n",
      "capital 21\n",
      "analysis 20\n",
      "also 18\n",
      "impact 17\n"
     ]
    }
   ],
   "source": [
    "print(\"[most frequent vocabularies]\")\n",
    "bag_cnts = np.sum(doc_bag, axis=0)\n",
    "\n",
    "top = 20\n",
    "# [::-1] reverses a list since sort is in ascending order\n",
    "for tok, v in zip(count.inverse_transform(np.ones(bag_cnts.shape[0]))[0][bag_cnts.argsort()[::-1][:top]], np.sort(bag_cnts)[::-1][:top]):\n",
    "    print(tok, v)"
   ]
  },
  {
   "cell_type": "markdown",
   "metadata": {},
   "source": [
    "# Create a loop for all DepartmentName and PublicationYear"
   ]
  },
  {
   "cell_type": "code",
   "execution_count": 26,
   "metadata": {
    "collapsed": false
   },
   "outputs": [
    {
     "name": "stdout",
     "output_type": "stream",
     "text": [
      "103 電子工程研究所\n",
      "103 物理系\n",
      "103 材料科學工程學系\n",
      "103 化學系\n",
      "103 國際專業管理碩士班\n",
      "103 光電工程研究所\n",
      "103 核子工程與科學研究所\n",
      "103 哲學研究所\n",
      "103 外國語文學系\n",
      "103 工程與系統科學系\n",
      "103 通訊工程研究所\n",
      "103 資訊系統與應用研究所\n",
      "103 學習科學研究所\n",
      "103 工業工程與工程管理學系\n",
      "103 化學工程學系\n",
      "103 工業工程與工程管理學系碩士在職專班\n",
      "103 高階經營管理碩士在職專班\n",
      "103 動力機械工程學系\n",
      "103 生物科技研究所\n",
      "103 分子醫學研究所\n",
      "103 資訊工程學系\n",
      "103 生醫工程與環境科學系\n",
      "103 社會學研究所\n",
      "103 科技管理研究所\n",
      "103 語言學研究所\n",
      "103 歷史研究所\n",
      "103 人類學研究所\n",
      "103 先進光源科技學位學程\n",
      "103 統計學研究所\n",
      "103 分子與細胞生物研究所\n",
      "103 奈米工程與微系統研究所\n",
      "103 科技法律研究所\n",
      "103 電機工程學系\n",
      "103 亞際文化研究國際碩士學位學程\n",
      "103 生物醫學工程研究所\n",
      "103 天文研究所\n",
      "103 中國文學系\n",
      "103 台灣文學研究所\n",
      "103 半導體元件及製程產業研發碩士專班\n",
      "103 計量財務金融學系\n",
      "103 生物資訊與結構生物研究所\n",
      "103 數學系\n",
      "103 經營管理碩士在職專班\n",
      "103 經濟學系\n",
      "103 服務科學研究所\n",
      "103 臺灣研究教師在職進修碩士學位班\n",
      "103 系統神經科學研究所\n",
      "104 電子工程研究所\n",
      "104 物理系\n",
      "104 材料科學工程學系\n",
      "104 化學系\n",
      "104 國際專業管理碩士班\n",
      "104 光電工程研究所\n",
      "104 核子工程與科學研究所\n",
      "104 哲學研究所\n",
      "104 外國語文學系\n",
      "104 工程與系統科學系\n",
      "104 通訊工程研究所\n",
      "104 資訊系統與應用研究所\n",
      "104 學習科學研究所\n",
      "104 工業工程與工程管理學系\n",
      "104 化學工程學系\n",
      "104 工業工程與工程管理學系碩士在職專班\n",
      "104 高階經營管理碩士在職專班\n",
      "104 動力機械工程學系\n",
      "104 生物科技研究所\n",
      "104 分子醫學研究所\n",
      "104 資訊工程學系\n",
      "104 生醫工程與環境科學系\n",
      "104 社會學研究所\n",
      "104 科技管理研究所\n",
      "104 語言學研究所\n",
      "104 歷史研究所\n",
      "104 人類學研究所\n",
      "104 先進光源科技學位學程\n",
      "104 統計學研究所\n",
      "104 分子與細胞生物研究所\n",
      "104 奈米工程與微系統研究所\n",
      "104 科技法律研究所\n",
      "104 電機工程學系\n",
      "104 亞際文化研究國際碩士學位學程\n",
      "104 生物醫學工程研究所\n",
      "104 天文研究所\n",
      "104 中國文學系\n",
      "104 台灣文學研究所\n",
      "104 半導體元件及製程產業研發碩士專班\n",
      "104 計量財務金融學系\n",
      "104 生物資訊與結構生物研究所\n",
      "104 數學系\n",
      "104 經營管理碩士在職專班\n",
      "104 經濟學系\n",
      "104 服務科學研究所\n",
      "104 臺灣研究教師在職進修碩士學位班\n",
      "104 系統神經科學研究所\n",
      "105 電子工程研究所\n",
      "105 物理系\n",
      "105 材料科學工程學系\n",
      "105 化學系\n",
      "105 國際專業管理碩士班\n",
      "105 光電工程研究所\n",
      "105 核子工程與科學研究所\n",
      "105 哲學研究所\n",
      "105 外國語文學系\n",
      "105 工程與系統科學系\n",
      "105 通訊工程研究所\n",
      "105 資訊系統與應用研究所\n",
      "105 學習科學研究所\n",
      "105 工業工程與工程管理學系\n",
      "105 化學工程學系\n",
      "105 工業工程與工程管理學系碩士在職專班\n",
      "105 高階經營管理碩士在職專班\n",
      "105 動力機械工程學系\n",
      "105 生物科技研究所\n",
      "105 分子醫學研究所\n",
      "105 資訊工程學系\n",
      "105 生醫工程與環境科學系\n",
      "105 社會學研究所\n",
      "105 科技管理研究所\n",
      "105 語言學研究所\n",
      "105 歷史研究所\n",
      "105 人類學研究所\n",
      "105 先進光源科技學位學程\n",
      "105 統計學研究所\n",
      "105 分子與細胞生物研究所\n",
      "105 奈米工程與微系統研究所\n",
      "105 科技法律研究所\n",
      "105 電機工程學系\n",
      "105 亞際文化研究國際碩士學位學程\n",
      "105 生物醫學工程研究所\n",
      "105 天文研究所\n",
      "105 中國文學系\n",
      "105 台灣文學研究所\n",
      "105 半導體元件及製程產業研發碩士專班\n",
      "105 計量財務金融學系\n",
      "105 生物資訊與結構生物研究所\n",
      "105 數學系\n",
      "105 經營管理碩士在職專班\n",
      "105 經濟學系\n",
      "105 服務科學研究所\n",
      "105 臺灣研究教師在職進修碩士學位班\n",
      "105 系統神經科學研究所\n"
     ]
    }
   ],
   "source": [
    "for year in PublicationYear:\n",
    "    for department in DepartmentName:\n",
    "        print(year, department)"
   ]
  },
  {
   "cell_type": "code",
   "execution_count": 28,
   "metadata": {
    "collapsed": true
   },
   "outputs": [],
   "source": [
    "import csv"
   ]
  },
  {
   "cell_type": "code",
   "execution_count": null,
   "metadata": {
    "collapsed": true
   },
   "outputs": [],
   "source": [
    "count = CountVectorizer(ngram_range=(1, 1),\n",
    "                        preprocessor=preprocessor,\n",
    "                        tokenizer=tokenizer_lemma_nostop)"
   ]
  },
  {
   "cell_type": "code",
   "execution_count": 31,
   "metadata": {
    "collapsed": false,
    "scrolled": true
   },
   "outputs": [
    {
     "name": "stderr",
     "output_type": "stream",
     "text": [
      "C:\\Users\\rdolor\\Anaconda3\\lib\\site-packages\\ipykernel\\__main__.py:7: UserWarning: Boolean Series key will be reindexed to match DataFrame index.\n"
     ]
    },
    {
     "name": "stdout",
     "output_type": "stream",
     "text": [
      "Invalid value!\n",
      "Invalid value!\n",
      "Invalid value!\n"
     ]
    }
   ],
   "source": [
    "parsed = False\n",
    "\n",
    "while not parsed:\n",
    "        for year in PublicationYear:\n",
    "            for department in DepartmentName:\n",
    "                try:  \n",
    "                    file = abstract[abstract.DepartmentName == department][abstract.PublicationYear == year]\n",
    "                    file['abstract'] = file.AbstractForeign.map(lambda x : str(x))\n",
    "                    data = file['abstract']\n",
    "                    doc_bag = count.fit_transform(data).toarray()\n",
    "                    bag_cnts = np.sum(doc_bag, axis=0)\n",
    "\n",
    "                    top = 100\n",
    "\n",
    "                    with open('wordcount.csv', 'a', newline='',encoding='utf-8-sig') as csvfile:\n",
    "\n",
    "                        fieldnames = ['year','department','word', 'count']\n",
    "                        writer = csv.DictWriter(csvfile, fieldnames=fieldnames)\n",
    "\n",
    "                        writer.writeheader()\n",
    "                        for tok, v in zip(count.inverse_transform(np.ones(bag_cnts.shape[0]))[0][bag_cnts.argsort()[::-1][:top]], np.sort(bag_cnts)[::-1][:top]):\n",
    "                            writer.writerow({'year':year,'department':department,'word': tok, 'count': v})\n",
    "                            \n",
    "    \n",
    "                except ValueError:\n",
    "                    print('Invalid value!')\n",
    "                    continue\n",
    "                    \n",
    "        parsed = True  "
   ]
  },
  {
   "cell_type": "code",
   "execution_count": null,
   "metadata": {
    "collapsed": true
   },
   "outputs": [],
   "source": []
  }
 ],
 "metadata": {
  "anaconda-cloud": {},
  "kernelspec": {
   "display_name": "Python [Root]",
   "language": "python",
   "name": "Python [Root]"
  },
  "language_info": {
   "codemirror_mode": {
    "name": "ipython",
    "version": 3
   },
   "file_extension": ".py",
   "mimetype": "text/x-python",
   "name": "python",
   "nbconvert_exporter": "python",
   "pygments_lexer": "ipython3",
   "version": "3.5.2"
  }
 },
 "nbformat": 4,
 "nbformat_minor": 2
}
